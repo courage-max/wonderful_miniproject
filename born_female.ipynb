{
 "cells": [
  {
   "cell_type": "code",
   "execution_count": null,
   "metadata": {},
   "outputs": [],
   "source": [
    "import pandas as pd\n",
    "import numpy as np\n",
    "import seaborn as sns\n",
    "import matplotlib.pyplot as plt\n",
    "\n",
    "def countSocial():\n",
    "    ret = []\n",
    "    i=-1\n",
    "    for y in range(2013,2019):#y=year\n",
    "        numFemale = 0 #numMale = 0;\n",
    "        countlife = 0\n",
    "        #countdis = 0\n",
    "        countmoney = 0\n",
    "        i += 1\n",
    "        \n",
    "        \"\"\"\n",
    "        mcountlife = 0\n",
    "        mcountdis = 0\n",
    "        mcountmoney = 0\n",
    "        \"\"\"\n",
    "        #누계 변수는 초기값 0으로 초기화\n",
    "        #[중요]"
   ]
  },
  {
   "cell_type": "code",
   "execution_count": 1,
   "metadata": {},
   "outputs": [],
   "source": [
    "        filename = r'C:\\Users\\cmin0_000\\Desktop\\social\\%d.csv' %y\n",
    "        with open(filename, 'r') as f:\n",
    "            data = f.readlines()\n",
    "            for d in data:\n",
    "                if d[-1] == '\\n':\n",
    "                    d = d[:-1]\n",
    "                    life = d.split(',')[1]\n",
    "                    #dis = d.split(',')[2]\n",
    "                    money = d.split(',')[3]\n",
    "                    age = d.split(',')[-1]\n",
    "                    sex = d.split(',')[-2]\n",
    "                    if age != '5':\n",
    "                        if sex == '2':\n",
    "                            numFemale += 1\n",
    "                            countlife += int(life)\n",
    "                            #countdis += int(dis)\n",
    "                            countmoney += int(money)\n",
    "                                                    \n",
    "            countlife /= numFemale #mcountlife /= numMale\n",
    "            #countdis /= numFemale #mcountdis /= numMale\n",
    "            countmoney /= numFemale #mcountmoney /= numMale\n",
    "                                     \n",
    "        ret.append((y,round(countlife,2), round(countmoney,2))) \n",
    "    return ret\n",
    "    "
   ]
  },
  {
   "cell_type": "code",
   "execution_count": 2,
   "metadata": {},
   "outputs": [
    {
     "data": {
      "text/plain": [
       "[(2013, 5.89, 4.57),\n",
       " (2014, 5.81, 4.46),\n",
       " (2015, 5.88, 4.59),\n",
       " (2016, 6.01, 4.83),\n",
       " (2017, 6.04, 4.96),\n",
       " (2018, 6.22, 4.95)]"
      ]
     },
     "execution_count": 2,
     "metadata": {},
     "output_type": "execute_result"
    }
   ],
   "source": [
    "result = countSocial()\n",
    "result"
   ]
  }
 ],
 "metadata": {
  "kernelspec": {
   "display_name": "Python 3",
   "language": "python",
   "name": "python3"
  },
  "language_info": {
   "codemirror_mode": {
    "name": "ipython",
    "version": 3
   },
   "file_extension": ".py",
   "mimetype": "text/x-python",
   "name": "python",
   "nbconvert_exporter": "python",
   "pygments_lexer": "ipython3",
   "version": "3.7.4"
  }
 },
 "nbformat": 4,
 "nbformat_minor": 2
}
